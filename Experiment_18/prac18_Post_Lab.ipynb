{
 "cells": [
  {
   "cell_type": "markdown",
   "id": "5341fb1a",
   "metadata": {},
   "source": [
    "**Post Lab-1**"
   ]
  },
  {
   "cell_type": "code",
   "execution_count": null,
   "id": "8e8d3caa",
   "metadata": {},
   "outputs": [],
   "source": []
  },
  {
   "cell_type": "markdown",
   "id": "58b8c3be",
   "metadata": {},
   "source": [
    "**Post Lab-2**"
   ]
  },
  {
   "cell_type": "code",
   "execution_count": null,
   "id": "901c636c",
   "metadata": {},
   "outputs": [],
   "source": []
  }
 ],
 "metadata": {
  "language_info": {
   "name": "python"
  }
 },
 "nbformat": 4,
 "nbformat_minor": 5
}
