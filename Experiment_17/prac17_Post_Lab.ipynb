{
 "cells": [
  {
   "cell_type": "markdown",
   "id": "afebf907",
   "metadata": {},
   "source": [
    "**Post Lab-1**"
   ]
  },
  {
   "cell_type": "code",
   "execution_count": 1,
   "id": "fcf5285e",
   "metadata": {},
   "outputs": [
    {
     "name": "stdout",
     "output_type": "stream",
     "text": [
      "Z-transform of a^n u[n]:\n",
      "⎧     z            │a│    \n",
      "⎪   ──────     for │─│ < 1\n",
      "⎪   -a + z         │z│    \n",
      "⎪                         \n",
      "⎪  ∞                      \n",
      "⎪ ___                     \n",
      "⎨ ╲                       \n",
      "⎪  ╲    n  -n             \n",
      "⎪  ╱   a ⋅z     otherwise \n",
      "⎪ ╱                       \n",
      "⎪ ‾‾‾                     \n",
      "⎪n = 0                    \n",
      "⎩                         \n",
      "⎧     z            │a│    \n",
      "⎪   ──────     for │─│ < 1\n",
      "⎪   -a + z         │z│    \n",
      "⎪                         \n",
      "⎪  ∞                      \n",
      "⎪ ___                     \n",
      "⎨ ╲                       \n",
      "⎪  ╲    n  -n             \n",
      "⎪  ╱   a ⋅z     otherwise \n",
      "⎪ ╱                       \n",
      "⎪ ‾‾‾                     \n",
      "⎪n = 0                    \n",
      "⎩                         \n"
     ]
    }
   ],
   "source": [
    "import sympy as sp\n",
    "n, z, a = sp.symbols('n z a')\n",
    "x_n = a**n\n",
    "Xz = sp.summation(x_n * z**(-n), (n, 0, sp.oo))\n",
    "print(\"Z-transform of a^n u[n]:\")\n",
    "sp.pprint(sp.simplify(Xz))\n",
    "sp.pprint(sp.simplify(sp.together(Xz)))"
   ]
  },
  {
   "cell_type": "markdown",
   "id": "8443f01c",
   "metadata": {},
   "source": [
    "**Post Lab-2**"
   ]
  },
  {
   "cell_type": "code",
   "execution_count": 2,
   "id": "e812be2f",
   "metadata": {},
   "outputs": [
    {
     "name": "stdout",
     "output_type": "stream",
     "text": [
      "Z-transform of n*a^n u[n]:\n",
      "⎧     a⋅z            │a│    \n",
      "⎪   ────────     for │─│ < 1\n",
      "⎪          2         │z│    \n",
      "⎪   (a - z)                 \n",
      "⎪                           \n",
      "⎪  ∞                        \n",
      "⎨ ___                       \n",
      "⎪ ╲                         \n",
      "⎪  ╲    n    -n             \n",
      "⎪  ╱   a ⋅n⋅z     otherwise \n",
      "⎪ ╱                         \n",
      "⎪ ‾‾‾                       \n",
      "⎩n = 0                      \n",
      "⎧     a⋅z            │a│    \n",
      "⎪   ────────     for │─│ < 1\n",
      "⎪          2         │z│    \n",
      "⎪   (a - z)                 \n",
      "⎪                           \n",
      "⎪  ∞                        \n",
      "⎨ ___                       \n",
      "⎪ ╲                         \n",
      "⎪  ╲    n    -n             \n",
      "⎪  ╱   a ⋅n⋅z     otherwise \n",
      "⎪ ╱                         \n",
      "⎪ ‾‾‾                       \n",
      "⎩n = 0                      \n"
     ]
    }
   ],
   "source": [
    "n, z, a = sp.symbols('n z a')\n",
    "x_n = n * a**n\n",
    "Xz = sp.summation(x_n * z**(-n), (n, 0, sp.oo))\n",
    "print(\"Z-transform of n*a^n u[n]:\")\n",
    "sp.pprint(sp.simplify(Xz))\n",
    "sp.pprint(sp.simplify(sp.together(Xz)))"
   ]
  }
 ],
 "metadata": {
  "kernelspec": {
   "display_name": "Python 3",
   "language": "python",
   "name": "python3"
  },
  "language_info": {
   "codemirror_mode": {
    "name": "ipython",
    "version": 3
   },
   "file_extension": ".py",
   "mimetype": "text/x-python",
   "name": "python",
   "nbconvert_exporter": "python",
   "pygments_lexer": "ipython3",
   "version": "3.13.1"
  }
 },
 "nbformat": 4,
 "nbformat_minor": 5
}
