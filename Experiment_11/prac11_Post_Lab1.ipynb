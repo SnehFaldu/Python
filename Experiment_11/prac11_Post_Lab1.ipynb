{
 "cells": [
  {
   "cell_type": "code",
   "execution_count": 1,
   "id": "05fdc951",
   "metadata": {},
   "outputs": [
    {
     "name": "stdout",
     "output_type": "stream",
     "text": [
      "Image Dimensions (Width x Height): (4096, 3072)\n",
      "Image Shape (Height x Width x Channels): (3072, 4096, 3)\n",
      "Minimum Pixel Value in Blue Channel: 0\n"
     ]
    }
   ],
   "source": [
    "import numpy as np\n",
    "from PIL import Image\n",
    "import matplotlib.pyplot as plt\n",
    "\n",
    "img = Image.open(r'C:\\Users\\princ\\Pictures\\img_1.jpg')\n",
    "img_array = np.array(img)\n",
    "\n",
    "# Display details\n",
    "print(\"Image Dimensions (Width x Height):\", img.size)\n",
    "print(\"Image Shape (Height x Width x Channels):\", img_array.shape)\n",
    "\n",
    "# Minimum pixel value in Blue channel (channel index 2)\n",
    "min_blue = np.min(img_array[:, :, 2])\n",
    "print(\"Minimum Pixel Value in Blue Channel:\", min_blue)"
   ]
  }
 ],
 "metadata": {
  "kernelspec": {
   "display_name": "Python 3",
   "language": "python",
   "name": "python3"
  },
  "language_info": {
   "codemirror_mode": {
    "name": "ipython",
    "version": 3
   },
   "file_extension": ".py",
   "mimetype": "text/x-python",
   "name": "python",
   "nbconvert_exporter": "python",
   "pygments_lexer": "ipython3",
   "version": "3.13.1"
  }
 },
 "nbformat": 4,
 "nbformat_minor": 5
}
